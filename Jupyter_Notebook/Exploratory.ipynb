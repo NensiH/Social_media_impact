{
 "cells": [
  {
   "cell_type": "code",
   "execution_count": 16,
   "id": "d4f10249",
   "metadata": {},
   "outputs": [],
   "source": [
    "# Import our dependencies\n",
    "import pandas as pd\n",
    "import numpy as np\n",
    "import matplotlib.pyplot as plt\n",
    "\n",
    "from sklearn.preprocessing import StandardScaler,OneHotEncoder"
   ]
  },
  {
   "cell_type": "code",
   "execution_count": 2,
   "id": "56e0dd0d",
   "metadata": {
    "scrolled": true
   },
   "outputs": [
    {
     "data": {
      "text/html": [
       "<div>\n",
       "<style scoped>\n",
       "    .dataframe tbody tr th:only-of-type {\n",
       "        vertical-align: middle;\n",
       "    }\n",
       "\n",
       "    .dataframe tbody tr th {\n",
       "        vertical-align: top;\n",
       "    }\n",
       "\n",
       "    .dataframe thead th {\n",
       "        text-align: right;\n",
       "    }\n",
       "</style>\n",
       "<table border=\"1\" class=\"dataframe\">\n",
       "  <thead>\n",
       "    <tr style=\"text-align: right;\">\n",
       "      <th></th>\n",
       "      <th>country</th>\n",
       "      <th>suicide_year</th>\n",
       "      <th>sex</th>\n",
       "      <th>age_range</th>\n",
       "      <th>suicides_no</th>\n",
       "      <th>population</th>\n",
       "      <th>suicides_100k_pop</th>\n",
       "      <th>country_year</th>\n",
       "      <th>HDI_for_year</th>\n",
       "      <th>gdp_for_year</th>\n",
       "      <th>gdp_per_capita</th>\n",
       "      <th>generation</th>\n",
       "    </tr>\n",
       "  </thead>\n",
       "  <tbody>\n",
       "    <tr>\n",
       "      <th>0</th>\n",
       "      <td>Albania</td>\n",
       "      <td>1987</td>\n",
       "      <td>m</td>\n",
       "      <td>15-24 years</td>\n",
       "      <td>21</td>\n",
       "      <td>312900</td>\n",
       "      <td>6.71</td>\n",
       "      <td>Albania1987</td>\n",
       "      <td>NaN</td>\n",
       "      <td>2156624900</td>\n",
       "      <td>796</td>\n",
       "      <td>Generation X</td>\n",
       "    </tr>\n",
       "    <tr>\n",
       "      <th>1</th>\n",
       "      <td>Albania</td>\n",
       "      <td>1987</td>\n",
       "      <td>m</td>\n",
       "      <td>35-54 years</td>\n",
       "      <td>16</td>\n",
       "      <td>308000</td>\n",
       "      <td>5.19</td>\n",
       "      <td>Albania1987</td>\n",
       "      <td>NaN</td>\n",
       "      <td>2156624900</td>\n",
       "      <td>796</td>\n",
       "      <td>Silent</td>\n",
       "    </tr>\n",
       "    <tr>\n",
       "      <th>2</th>\n",
       "      <td>Albania</td>\n",
       "      <td>1987</td>\n",
       "      <td>f</td>\n",
       "      <td>15-24 years</td>\n",
       "      <td>14</td>\n",
       "      <td>289700</td>\n",
       "      <td>4.83</td>\n",
       "      <td>Albania1987</td>\n",
       "      <td>NaN</td>\n",
       "      <td>2156624900</td>\n",
       "      <td>796</td>\n",
       "      <td>Generation X</td>\n",
       "    </tr>\n",
       "    <tr>\n",
       "      <th>3</th>\n",
       "      <td>Albania</td>\n",
       "      <td>1987</td>\n",
       "      <td>m</td>\n",
       "      <td>75+ years</td>\n",
       "      <td>1</td>\n",
       "      <td>21800</td>\n",
       "      <td>4.59</td>\n",
       "      <td>Albania1987</td>\n",
       "      <td>NaN</td>\n",
       "      <td>2156624900</td>\n",
       "      <td>796</td>\n",
       "      <td>G.I. Generation</td>\n",
       "    </tr>\n",
       "    <tr>\n",
       "      <th>4</th>\n",
       "      <td>Albania</td>\n",
       "      <td>1987</td>\n",
       "      <td>m</td>\n",
       "      <td>25-34 years</td>\n",
       "      <td>9</td>\n",
       "      <td>274300</td>\n",
       "      <td>3.28</td>\n",
       "      <td>Albania1987</td>\n",
       "      <td>NaN</td>\n",
       "      <td>2156624900</td>\n",
       "      <td>796</td>\n",
       "      <td>Boomers</td>\n",
       "    </tr>\n",
       "  </tbody>\n",
       "</table>\n",
       "</div>"
      ],
      "text/plain": [
       "   country  suicide_year sex    age_range  suicides_no  population  \\\n",
       "0  Albania          1987   m  15-24 years           21      312900   \n",
       "1  Albania          1987   m  35-54 years           16      308000   \n",
       "2  Albania          1987   f  15-24 years           14      289700   \n",
       "3  Albania          1987   m    75+ years            1       21800   \n",
       "4  Albania          1987   m  25-34 years            9      274300   \n",
       "\n",
       "   suicides_100k_pop country_year  HDI_for_year   gdp_for_year  \\\n",
       "0               6.71  Albania1987           NaN     2156624900   \n",
       "1               5.19  Albania1987           NaN     2156624900   \n",
       "2               4.83  Albania1987           NaN     2156624900   \n",
       "3               4.59  Albania1987           NaN     2156624900   \n",
       "4               3.28  Albania1987           NaN     2156624900   \n",
       "\n",
       "   gdp_per_capita       generation  \n",
       "0             796     Generation X  \n",
       "1             796           Silent  \n",
       "2             796     Generation X  \n",
       "3             796  G.I. Generation  \n",
       "4             796          Boomers  "
      ]
     },
     "execution_count": 2,
     "metadata": {},
     "output_type": "execute_result"
    }
   ],
   "source": [
    "# read in cvs as dataframe\n",
    "df = pd.read_csv(\"../Final_project/socialmedia_mentalhealth.csv\")\n",
    "df.head()"
   ]
  },
  {
   "cell_type": "code",
   "execution_count": 3,
   "id": "c9d6b70a",
   "metadata": {},
   "outputs": [
    {
     "name": "stdout",
     "output_type": "stream",
     "text": [
      "<class 'pandas.core.frame.DataFrame'>\n",
      "RangeIndex: 27820 entries, 0 to 27819\n",
      "Data columns (total 12 columns):\n",
      " #   Column             Non-Null Count  Dtype  \n",
      "---  ------             --------------  -----  \n",
      " 0   country            27820 non-null  object \n",
      " 1   suicide_year       27820 non-null  int64  \n",
      " 2   sex                27820 non-null  object \n",
      " 3   age_range          27820 non-null  object \n",
      " 4   suicides_no        27820 non-null  int64  \n",
      " 5   population         27820 non-null  int64  \n",
      " 6   suicides_100k_pop  27820 non-null  float64\n",
      " 7   country_year       27820 non-null  object \n",
      " 8   HDI_for_year       8364 non-null   float64\n",
      " 9    gdp_for_year      27820 non-null  int64  \n",
      " 10  gdp_per_capita     27820 non-null  int64  \n",
      " 11  generation         27820 non-null  object \n",
      "dtypes: float64(2), int64(5), object(5)\n",
      "memory usage: 2.5+ MB\n"
     ]
    }
   ],
   "source": [
    "df.info()"
   ]
  },
  {
   "cell_type": "code",
   "execution_count": 4,
   "id": "c1f72736",
   "metadata": {},
   "outputs": [
    {
     "data": {
      "text/plain": [
       "0       4281\n",
       "1       1539\n",
       "2       1102\n",
       "3        867\n",
       "4        696\n",
       "        ... \n",
       "2158       1\n",
       "525        1\n",
       "2297       1\n",
       "5241       1\n",
       "2872       1\n",
       "Name: suicides_no, Length: 2084, dtype: int64"
      ]
     },
     "execution_count": 4,
     "metadata": {},
     "output_type": "execute_result"
    }
   ],
   "source": [
    "suicides_100k_pop_count = df.suicides_no.value_counts()\n",
    "suicides_100k_pop_count"
   ]
  },
  {
   "cell_type": "code",
   "execution_count": 5,
   "id": "1637eff4",
   "metadata": {},
   "outputs": [
    {
     "data": {
      "text/plain": [
       "15-24 years    4642\n",
       "35-54 years    4642\n",
       "75+ years      4642\n",
       "25-34 years    4642\n",
       "55-74 years    4642\n",
       "5-14 years     4610\n",
       "Name: age_range, dtype: int64"
      ]
     },
     "execution_count": 5,
     "metadata": {},
     "output_type": "execute_result"
    }
   ],
   "source": [
    "age_range_count = df.age_range.value_counts()\n",
    "age_range_count"
   ]
  },
  {
   "cell_type": "code",
   "execution_count": 6,
   "id": "0381db9b",
   "metadata": {},
   "outputs": [
    {
     "data": {
      "text/plain": [
       "Generation X       6408\n",
       "Silent             6364\n",
       "Millenials         5844\n",
       "Boomers            4990\n",
       "G.I. Generation    2744\n",
       "Generation Z       1470\n",
       "Name: generation, dtype: int64"
      ]
     },
     "execution_count": 6,
     "metadata": {},
     "output_type": "execute_result"
    }
   ],
   "source": [
    "generation_count = df.generation.value_counts()\n",
    "generation_count"
   ]
  },
  {
   "cell_type": "code",
   "execution_count": 7,
   "id": "79b50391",
   "metadata": {},
   "outputs": [
    {
     "data": {
      "image/png": "[encoded data removed]",
      "text/plain": [
       "<Figure size 432x288 with 1 Axes>"
      ]
     },
     "metadata": {
      "needs_background": "light"
     },
     "output_type": "display_data"
    }
   ],
   "source": [
    "# scatter plot of suicide_year vs suicides_100k_pop\n",
    "plt.scatter(df.suicide_year, df.suicides_100k_pop)\n",
    "plt.xlabel('suicide_year')\n",
    "plt.ylabel('suicides_100k_pop')\n",
    "plt.show()"
   ]
  },
  {
   "cell_type": "code",
   "execution_count": 8,
   "id": "d7ca4a9f",
   "metadata": {},
   "outputs": [
    {
     "data": {
      "text/plain": [
       "country              372\n",
       "suicide_year         372\n",
       "sex                  372\n",
       "age_range            372\n",
       "suicides_no          372\n",
       "population           372\n",
       "suicides_100k_pop    372\n",
       "country_year         372\n",
       "HDI_for_year         120\n",
       " gdp_for_year        372\n",
       "gdp_per_capita       372\n",
       "generation           372\n",
       "dtype: int64"
      ]
     },
     "execution_count": 8,
     "metadata": {},
     "output_type": "execute_result"
    }
   ],
   "source": [
    "# count of rows that is United States \n",
    "country_count = df[df['country'] == 'United States'].count()\n",
    "country_count"
   ]
  },
  {
   "cell_type": "code",
   "execution_count": 9,
   "id": "c7f696dc",
   "metadata": {},
   "outputs": [
    {
     "data": {
      "text/html": [
       "<div>\n",
       "<style scoped>\n",
       "    .dataframe tbody tr th:only-of-type {\n",
       "        vertical-align: middle;\n",
       "    }\n",
       "\n",
       "    .dataframe tbody tr th {\n",
       "        vertical-align: top;\n",
       "    }\n",
       "\n",
       "    .dataframe thead th {\n",
       "        text-align: right;\n",
       "    }\n",
       "</style>\n",
       "<table border=\"1\" class=\"dataframe\">\n",
       "  <thead>\n",
       "    <tr style=\"text-align: right;\">\n",
       "      <th></th>\n",
       "      <th>country</th>\n",
       "      <th>suicide_year</th>\n",
       "      <th>sex</th>\n",
       "      <th>age_range</th>\n",
       "      <th>suicides_no</th>\n",
       "      <th>population</th>\n",
       "      <th>suicides_100k_pop</th>\n",
       "      <th>country_year</th>\n",
       "      <th>HDI_for_year</th>\n",
       "      <th>gdp_for_year</th>\n",
       "      <th>gdp_per_capita</th>\n",
       "      <th>generation</th>\n",
       "    </tr>\n",
       "  </thead>\n",
       "  <tbody>\n",
       "    <tr>\n",
       "      <th>27088</th>\n",
       "      <td>United States</td>\n",
       "      <td>2005</td>\n",
       "      <td>m</td>\n",
       "      <td>75+ years</td>\n",
       "      <td>2610</td>\n",
       "      <td>6883241</td>\n",
       "      <td>37.92</td>\n",
       "      <td>United States2005</td>\n",
       "      <td>0.897</td>\n",
       "      <td>13093726000000</td>\n",
       "      <td>47423</td>\n",
       "      <td>Silent</td>\n",
       "    </tr>\n",
       "    <tr>\n",
       "      <th>27089</th>\n",
       "      <td>United States</td>\n",
       "      <td>2005</td>\n",
       "      <td>m</td>\n",
       "      <td>35-54 years</td>\n",
       "      <td>10332</td>\n",
       "      <td>42835394</td>\n",
       "      <td>24.12</td>\n",
       "      <td>United States2005</td>\n",
       "      <td>0.897</td>\n",
       "      <td>13093726000000</td>\n",
       "      <td>47423</td>\n",
       "      <td>Boomers</td>\n",
       "    </tr>\n",
       "    <tr>\n",
       "      <th>27090</th>\n",
       "      <td>United States</td>\n",
       "      <td>2005</td>\n",
       "      <td>m</td>\n",
       "      <td>55-74 years</td>\n",
       "      <td>5190</td>\n",
       "      <td>23156114</td>\n",
       "      <td>22.41</td>\n",
       "      <td>United States2005</td>\n",
       "      <td>0.897</td>\n",
       "      <td>13093726000000</td>\n",
       "      <td>47423</td>\n",
       "      <td>Silent</td>\n",
       "    </tr>\n",
       "    <tr>\n",
       "      <th>27091</th>\n",
       "      <td>United States</td>\n",
       "      <td>2005</td>\n",
       "      <td>m</td>\n",
       "      <td>25-34 years</td>\n",
       "      <td>4066</td>\n",
       "      <td>20421260</td>\n",
       "      <td>19.91</td>\n",
       "      <td>United States2005</td>\n",
       "      <td>0.897</td>\n",
       "      <td>13093726000000</td>\n",
       "      <td>47423</td>\n",
       "      <td>Generation X</td>\n",
       "    </tr>\n",
       "    <tr>\n",
       "      <th>27092</th>\n",
       "      <td>United States</td>\n",
       "      <td>2005</td>\n",
       "      <td>m</td>\n",
       "      <td>15-24 years</td>\n",
       "      <td>3498</td>\n",
       "      <td>21647159</td>\n",
       "      <td>16.16</td>\n",
       "      <td>United States2005</td>\n",
       "      <td>0.897</td>\n",
       "      <td>13093726000000</td>\n",
       "      <td>47423</td>\n",
       "      <td>Millenials</td>\n",
       "    </tr>\n",
       "  </tbody>\n",
       "</table>\n",
       "</div>"
      ],
      "text/plain": [
       "             country  suicide_year sex    age_range  suicides_no  population  \\\n",
       "27088  United States          2005   m    75+ years         2610     6883241   \n",
       "27089  United States          2005   m  35-54 years        10332    42835394   \n",
       "27090  United States          2005   m  55-74 years         5190    23156114   \n",
       "27091  United States          2005   m  25-34 years         4066    20421260   \n",
       "27092  United States          2005   m  15-24 years         3498    21647159   \n",
       "\n",
       "       suicides_100k_pop       country_year  HDI_for_year    gdp_for_year  \\\n",
       "27088              37.92  United States2005         0.897  13093726000000   \n",
       "27089              24.12  United States2005         0.897  13093726000000   \n",
       "27090              22.41  United States2005         0.897  13093726000000   \n",
       "27091              19.91  United States2005         0.897  13093726000000   \n",
       "27092              16.16  United States2005         0.897  13093726000000   \n",
       "\n",
       "       gdp_per_capita    generation  \n",
       "27088           47423        Silent  \n",
       "27089           47423       Boomers  \n",
       "27090           47423        Silent  \n",
       "27091           47423  Generation X  \n",
       "27092           47423    Millenials  "
      ]
     },
     "execution_count": 9,
     "metadata": {},
     "output_type": "execute_result"
    }
   ],
   "source": [
    "# filter dataframe to United States and suicide_year between 2005 and 2012\n",
    "first_filter = df['country'] == 'United States'\n",
    "second_filter = df.suicide_year >= 2005\n",
    "third_filter = df.suicide_year <=2012\n",
    "data = df[first_filter & second_filter & third_filter]\n",
    "data.head()"
   ]
  },
  {
   "cell_type": "code",
   "execution_count": 10,
   "id": "2ab65ed7",
   "metadata": {},
   "outputs": [
    {
     "name": "stdout",
     "output_type": "stream",
     "text": [
      "<class 'pandas.core.frame.DataFrame'>\n",
      "Int64Index: 96 entries, 27088 to 27183\n",
      "Data columns (total 12 columns):\n",
      " #   Column             Non-Null Count  Dtype  \n",
      "---  ------             --------------  -----  \n",
      " 0   country            96 non-null     object \n",
      " 1   suicide_year       96 non-null     int64  \n",
      " 2   sex                96 non-null     object \n",
      " 3   age_range          96 non-null     object \n",
      " 4   suicides_no        96 non-null     int64  \n",
      " 5   population         96 non-null     int64  \n",
      " 6   suicides_100k_pop  96 non-null     float64\n",
      " 7   country_year       96 non-null     object \n",
      " 8   HDI_for_year       48 non-null     float64\n",
      " 9    gdp_for_year      96 non-null     int64  \n",
      " 10  gdp_per_capita     96 non-null     int64  \n",
      " 11  generation         96 non-null     object \n",
      "dtypes: float64(2), int64(5), object(5)\n",
      "memory usage: 9.8+ KB\n"
     ]
    }
   ],
   "source": [
    "data.info()"
   ]
  },
  {
   "cell_type": "code",
   "execution_count": 11,
   "id": "34e95e29",
   "metadata": {},
   "outputs": [],
   "source": [
    "# create feature X and target y\n",
    "X = np.array(data.loc[:,'suicide_year']).reshape(-1,1)\n",
    "y = np.array(data.loc[:,'suicides_100k_pop']).reshape(-1,1)"
   ]
  },
  {
   "cell_type": "code",
   "execution_count": 12,
   "id": "5905bc05",
   "metadata": {},
   "outputs": [
    {
     "data": {
      "image/png": "[encoded data removed]",
      "text/plain": [
       "<Figure size 720x720 with 1 Axes>"
      ]
     },
     "metadata": {
      "needs_background": "light"
     },
     "output_type": "display_data"
    }
   ],
   "source": [
    "# Scatter plot\n",
    "plt.figure(figsize=[10,10])\n",
    "plt.scatter(x=X,y=y)\n",
    "plt.xlabel('suicide_year')\n",
    "plt.ylabel('suicides_100k_pop')\n",
    "plt.show()"
   ]
  },
  {
   "cell_type": "code",
   "execution_count": 13,
   "id": "154e628e",
   "metadata": {},
   "outputs": [
    {
     "data": {
      "text/plain": [
       "(96, 3)"
      ]
     },
     "execution_count": 13,
     "metadata": {},
     "output_type": "execute_result"
    }
   ],
   "source": [
    "# multivariate Regression\n",
    "X = data[['suicide_year', 'population', 'gdp_per_capita']]\n",
    "X.shape"
   ]
  },
  {
   "cell_type": "code",
   "execution_count": 14,
   "id": "707ea9e1",
   "metadata": {},
   "outputs": [],
   "source": [
    "X = X.values"
   ]
  },
  {
   "cell_type": "code",
   "execution_count": 18,
   "id": "f788f86d",
   "metadata": {},
   "outputs": [
    {
     "data": {
      "text/plain": [
       "array([[-1.52752523, -1.63806124, -1.85030596],\n",
       "       [-1.52752523,  1.86598529, -1.85030596],\n",
       "       [-1.52752523, -0.05203928, -1.85030596],\n",
       "       [-1.52752523, -0.31858954, -1.85030596],\n",
       "       [-1.52752523, -0.19910832, -1.85030596],\n",
       "       [-1.52752523,  1.93167038, -1.85030596],\n",
       "       [-1.52752523,  0.20946935, -1.85030596],\n",
       "       [-1.52752523, -0.38677625, -1.85030596],\n",
       "       [-1.52752523, -1.21079609, -1.85030596],\n",
       "       [-1.52752523, -0.31776792, -1.85030596],\n",
       "       [-1.52752523, -0.29383637, -1.85030596],\n",
       "       [-1.52752523, -0.38681017, -1.85030596],\n",
       "       [-1.09108945, -1.62798657, -0.83159308],\n",
       "       [-1.09108945,  1.89566468, -0.83159308],\n",
       "       [-1.09108945,  0.01989249, -0.83159308],\n",
       "       [-1.09108945, -0.30461386, -0.83159308],\n",
       "       [-1.09108945, -0.1798304 , -0.83159308],\n",
       "       [-1.09108945,  1.96050798, -0.83159308],\n",
       "       [-1.09108945,  0.2845304 , -0.83159308],\n",
       "       [-1.09108945, -0.37413768, -0.83159308],\n",
       "       [-1.09108945, -1.20203991, -0.83159308],\n",
       "       [-1.09108945, -0.30209744, -0.83159308],\n",
       "       [-1.09108945, -0.29725854, -0.83159308],\n",
       "       [-1.09108945, -0.38916295, -0.83159308],\n",
       "       [-0.65465367, -1.62114312,  0.03996734],\n",
       "       [-0.65465367,  1.88125617,  0.03996734],\n",
       "       [-0.65465367,  0.09464136,  0.03996734],\n",
       "       [-0.65465367, -0.30785698,  0.03996734],\n",
       "       [-0.65465367, -0.16332299,  0.03996734],\n",
       "       [-0.65465367,  1.94127713,  0.03996734],\n",
       "       [-0.65465367,  0.36118382,  0.03996734],\n",
       "       [-0.65465367, -0.37527295,  0.03996734],\n",
       "       [-0.65465367, -1.1957907 ,  0.03996734],\n",
       "       [-0.65465367, -0.28507093,  0.03996734],\n",
       "       [-0.65465367, -0.29540906,  0.03996734],\n",
       "       [-0.65465367, -0.38750226,  0.03996734],\n",
       "       [-0.21821789, -1.61962833,  0.28658396],\n",
       "       [-0.21821789,  1.88226931,  0.28658396],\n",
       "       [-0.21821789,  0.19575253,  0.28658396],\n",
       "       [-0.21821789, -0.35895023,  0.28658396],\n",
       "       [-0.21821789, -0.14672601,  0.28658396],\n",
       "       [-0.21821789,  1.87168343,  0.28658396],\n",
       "       [-0.21821789,  0.45008478,  0.28658396],\n",
       "       [-0.21821789, -0.37792933,  0.28658396],\n",
       "       [-0.21821789, -1.23307026,  0.28658396],\n",
       "       [-0.21821789, -0.24761857,  0.28658396],\n",
       "       [-0.21821789, -0.25490733,  0.28658396],\n",
       "       [-0.21821789, -0.3485778 ,  0.28658396],\n",
       "       [ 0.21821789, -1.6102514 , -0.42419877],\n",
       "       [ 0.21821789,  1.87541982, -0.42419877],\n",
       "       [ 0.21821789,  0.28992533, -0.42419877],\n",
       "       [ 0.21821789, -0.33957543, -0.42419877],\n",
       "       [ 0.21821789, -0.13127541, -0.42419877],\n",
       "       [ 0.21821789,  1.86612573, -0.42419877],\n",
       "       [ 0.21821789,  0.54640472, -0.42419877],\n",
       "       [ 0.21821789, -0.36033929, -0.42419877],\n",
       "       [ 0.21821789, -0.2330277 , -0.42419877],\n",
       "       [ 0.21821789, -1.22696685, -0.42419877],\n",
       "       [ 0.21821789, -0.24855257, -0.42419877],\n",
       "       [ 0.21821789, -0.3419134 , -0.42419877],\n",
       "       [ 0.65465367, -1.60099026,  0.22345374],\n",
       "       [ 0.65465367,  1.86238954,  0.22345374],\n",
       "       [ 0.65465367,  0.38769768,  0.22345374],\n",
       "       [ 0.65465367, -0.31970005,  0.22345374],\n",
       "       [ 0.65465367, -0.11958634,  0.22345374],\n",
       "       [ 0.65465367,  1.85388443,  0.22345374],\n",
       "       [ 0.65465367,  0.64682565,  0.22345374],\n",
       "       [ 0.65465367, -0.34202012,  0.22345374],\n",
       "       [ 0.65465367, -0.22361539,  0.22345374],\n",
       "       [ 0.65465367, -1.22088733,  0.22345374],\n",
       "       [ 0.65465367, -0.24194304,  0.22345374],\n",
       "       [ 0.65465367, -0.33521966,  0.22345374],\n",
       "       [ 1.09108945, -1.5829399 ,  0.88791069],\n",
       "       [ 1.09108945,  1.83975563,  0.88791069],\n",
       "       [ 1.09108945,  0.4742903 ,  0.88791069],\n",
       "       [ 1.09108945, -0.29158739,  0.88791069],\n",
       "       [ 1.09108945, -0.10404178,  0.88791069],\n",
       "       [ 1.09108945,  1.83184963,  0.88791069],\n",
       "       [ 1.09108945,  0.73864732,  0.88791069],\n",
       "       [ 1.09108945, -0.31987831,  0.88791069],\n",
       "       [ 1.09108945, -0.20837619,  0.88791069],\n",
       "       [ 1.09108945, -1.210415  ,  0.88791069],\n",
       "       [ 1.09108945, -0.24413735,  0.88791069],\n",
       "       [ 1.09108945, -0.33513964,  0.88791069],\n",
       "       [ 1.52752523, -1.56493067,  1.66818208],\n",
       "       [ 1.52752523,  1.81635965,  1.66818208],\n",
       "       [ 1.52752523,  0.56364603,  1.66818208],\n",
       "       [ 1.52752523, -0.25943874,  1.66818208],\n",
       "       [ 1.52752523, -0.09521893,  1.66818208],\n",
       "       [ 1.52752523,  1.80780902,  1.66818208],\n",
       "       [ 1.52752523,  0.83378472,  1.66818208],\n",
       "       [ 1.52752523, -0.29454864,  1.66818208],\n",
       "       [ 1.52752523, -0.19844449,  1.66818208],\n",
       "       [ 1.52752523, -1.20021284,  1.66818208],\n",
       "       [ 1.52752523, -0.24287061,  1.66818208],\n",
       "       [ 1.52752523, -0.3329502 ,  1.66818208]])"
      ]
     },
     "execution_count": 18,
     "metadata": {},
     "output_type": "execute_result"
    }
   ],
   "source": [
    "# Create a StandardScaler instances\n",
    "scaler = StandardScaler()\n",
    "\n",
    "# Fit the StandardScaler\n",
    "X_scaler = scaler.fit(X)\n",
    "\n",
    "# Scale the data\n",
    "X_train_scaled = X_scaler.transform(X)\n",
    "X_train_scaled"
   ]
  },
  {
   "cell_type": "code",
   "execution_count": 19,
   "id": "9bb94a3e",
   "metadata": {},
   "outputs": [
    {
     "name": "stderr",
     "output_type": "stream",
     "text": [
      "C:\\Users\\quang\\anaconda3\\envs\\mlenv\\lib\\site-packages\\ipykernel_launcher.py:3: MatplotlibDeprecationWarning: Axes3D(fig) adding itself to the figure is deprecated since 3.4. Pass the keyword argument auto_add_to_figure=False and use fig.add_axes(ax) to suppress this warning. The default value of auto_add_to_figure will change to False in mpl3.5 and True values will no longer work in 3.6.  This is consistent with other Axes classes.\n",
      "  This is separate from the ipykernel package so we can avoid doing imports until\n"
     ]
    },
    {
     "data": {
      "image/png": "[encoded data removed]",
      "text/plain": [
       "<Figure size 360x360 with 1 Axes>"
      ]
     },
     "metadata": {
      "needs_background": "light"
     },
     "output_type": "display_data"
    }
   ],
   "source": [
    "from mpl_toolkits.mplot3d import Axes3D\n",
    "fig = plt.figure(1, figsize=(5, 5))\n",
    "axes = Axes3D(fig, elev=20, azim=45)\n",
    "axes.scatter(X_train_scaled[:,0], X_train_scaled[:,1], X_train_scaled[:,2], c=y, cmap=plt.cm.get_cmap(\"Spectral\"))\n",
    "plt.show()"
   ]
  },
  {
   "cell_type": "code",
   "execution_count": null,
   "id": "3fa917f7",
   "metadata": {},
   "outputs": [],
   "source": []
  }
 ],
 "metadata": {
  "kernelspec": {
   "display_name": "mlenv",
   "language": "python",
   "name": "mlenv"
  },
  "language_info": {
   "codemirror_mode": {
    "name": "ipython",
    "version": 3
   },
   "file_extension": ".py",
   "mimetype": "text/x-python",
   "name": "python",
   "nbconvert_exporter": "python",
   "pygments_lexer": "ipython3",
   "version": "3.7.11"
  }
 },
 "nbformat": 4,
 "nbformat_minor": 5
}
