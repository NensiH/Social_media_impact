{
 "cells": [
  {
   "cell_type": "code",
   "execution_count": 1,
   "id": "d4f10249",
   "metadata": {},
   "outputs": [],
   "source": [
    "# Import our dependencies\n",
    "import pandas as pd\n",
    "import numpy as np\n",
    "import matplotlib.pyplot as plt"
   ]
  },
  {
   "cell_type": "code",
   "execution_count": 2,
   "id": "56e0dd0d",
   "metadata": {
    "scrolled": true
   },
   "outputs": [
    {
     "data": {
      "text/html": [
       "<div>\n",
       "<style scoped>\n",
       "    .dataframe tbody tr th:only-of-type {\n",
       "        vertical-align: middle;\n",
       "    }\n",
       "\n",
       "    .dataframe tbody tr th {\n",
       "        vertical-align: top;\n",
       "    }\n",
       "\n",
       "    .dataframe thead th {\n",
       "        text-align: right;\n",
       "    }\n",
       "</style>\n",
       "<table border=\"1\" class=\"dataframe\">\n",
       "  <thead>\n",
       "    <tr style=\"text-align: right;\">\n",
       "      <th></th>\n",
       "      <th>country</th>\n",
       "      <th>suicide_year</th>\n",
       "      <th>sex</th>\n",
       "      <th>age_range</th>\n",
       "      <th>suicides_no</th>\n",
       "      <th>population</th>\n",
       "      <th>suicides_100k_pop</th>\n",
       "      <th>country_year</th>\n",
       "      <th>HDI_for_year</th>\n",
       "      <th>gdp_for_year</th>\n",
       "      <th>gdp_per_capita</th>\n",
       "      <th>generation</th>\n",
       "    </tr>\n",
       "  </thead>\n",
       "  <tbody>\n",
       "    <tr>\n",
       "      <th>0</th>\n",
       "      <td>Albania</td>\n",
       "      <td>1987</td>\n",
       "      <td>m</td>\n",
       "      <td>15-24 years</td>\n",
       "      <td>21</td>\n",
       "      <td>312900</td>\n",
       "      <td>6.71</td>\n",
       "      <td>Albania1987</td>\n",
       "      <td>NaN</td>\n",
       "      <td>2156624900</td>\n",
       "      <td>796</td>\n",
       "      <td>Generation X</td>\n",
       "    </tr>\n",
       "    <tr>\n",
       "      <th>1</th>\n",
       "      <td>Albania</td>\n",
       "      <td>1987</td>\n",
       "      <td>m</td>\n",
       "      <td>35-54 years</td>\n",
       "      <td>16</td>\n",
       "      <td>308000</td>\n",
       "      <td>5.19</td>\n",
       "      <td>Albania1987</td>\n",
       "      <td>NaN</td>\n",
       "      <td>2156624900</td>\n",
       "      <td>796</td>\n",
       "      <td>Silent</td>\n",
       "    </tr>\n",
       "    <tr>\n",
       "      <th>2</th>\n",
       "      <td>Albania</td>\n",
       "      <td>1987</td>\n",
       "      <td>f</td>\n",
       "      <td>15-24 years</td>\n",
       "      <td>14</td>\n",
       "      <td>289700</td>\n",
       "      <td>4.83</td>\n",
       "      <td>Albania1987</td>\n",
       "      <td>NaN</td>\n",
       "      <td>2156624900</td>\n",
       "      <td>796</td>\n",
       "      <td>Generation X</td>\n",
       "    </tr>\n",
       "    <tr>\n",
       "      <th>3</th>\n",
       "      <td>Albania</td>\n",
       "      <td>1987</td>\n",
       "      <td>m</td>\n",
       "      <td>75+ years</td>\n",
       "      <td>1</td>\n",
       "      <td>21800</td>\n",
       "      <td>4.59</td>\n",
       "      <td>Albania1987</td>\n",
       "      <td>NaN</td>\n",
       "      <td>2156624900</td>\n",
       "      <td>796</td>\n",
       "      <td>G.I. Generation</td>\n",
       "    </tr>\n",
       "    <tr>\n",
       "      <th>4</th>\n",
       "      <td>Albania</td>\n",
       "      <td>1987</td>\n",
       "      <td>m</td>\n",
       "      <td>25-34 years</td>\n",
       "      <td>9</td>\n",
       "      <td>274300</td>\n",
       "      <td>3.28</td>\n",
       "      <td>Albania1987</td>\n",
       "      <td>NaN</td>\n",
       "      <td>2156624900</td>\n",
       "      <td>796</td>\n",
       "      <td>Boomers</td>\n",
       "    </tr>\n",
       "  </tbody>\n",
       "</table>\n",
       "</div>"
      ],
      "text/plain": [
       "   country  suicide_year sex    age_range  suicides_no  population  \\\n",
       "0  Albania          1987   m  15-24 years           21      312900   \n",
       "1  Albania          1987   m  35-54 years           16      308000   \n",
       "2  Albania          1987   f  15-24 years           14      289700   \n",
       "3  Albania          1987   m    75+ years            1       21800   \n",
       "4  Albania          1987   m  25-34 years            9      274300   \n",
       "\n",
       "   suicides_100k_pop country_year  HDI_for_year   gdp_for_year  \\\n",
       "0               6.71  Albania1987           NaN     2156624900   \n",
       "1               5.19  Albania1987           NaN     2156624900   \n",
       "2               4.83  Albania1987           NaN     2156624900   \n",
       "3               4.59  Albania1987           NaN     2156624900   \n",
       "4               3.28  Albania1987           NaN     2156624900   \n",
       "\n",
       "   gdp_per_capita       generation  \n",
       "0             796     Generation X  \n",
       "1             796           Silent  \n",
       "2             796     Generation X  \n",
       "3             796  G.I. Generation  \n",
       "4             796          Boomers  "
      ]
     },
     "execution_count": 2,
     "metadata": {},
     "output_type": "execute_result"
    }
   ],
   "source": [
    "# read in cvs as dataframe\n",
    "df = pd.read_csv(\"../Final_project/socialmedia_mentalhealth.csv\")\n",
    "df.head()"
   ]
  },
  {
   "cell_type": "code",
   "execution_count": 3,
   "id": "c9d6b70a",
   "metadata": {},
   "outputs": [
    {
     "name": "stdout",
     "output_type": "stream",
     "text": [
      "<class 'pandas.core.frame.DataFrame'>\n",
      "RangeIndex: 27820 entries, 0 to 27819\n",
      "Data columns (total 12 columns):\n",
      " #   Column             Non-Null Count  Dtype  \n",
      "---  ------             --------------  -----  \n",
      " 0   country            27820 non-null  object \n",
      " 1   suicide_year       27820 non-null  int64  \n",
      " 2   sex                27820 non-null  object \n",
      " 3   age_range          27820 non-null  object \n",
      " 4   suicides_no        27820 non-null  int64  \n",
      " 5   population         27820 non-null  int64  \n",
      " 6   suicides_100k_pop  27820 non-null  float64\n",
      " 7   country_year       27820 non-null  object \n",
      " 8   HDI_for_year       8364 non-null   float64\n",
      " 9    gdp_for_year      27820 non-null  int64  \n",
      " 10  gdp_per_capita     27820 non-null  int64  \n",
      " 11  generation         27820 non-null  object \n",
      "dtypes: float64(2), int64(5), object(5)\n",
      "memory usage: 2.5+ MB\n"
     ]
    }
   ],
   "source": [
    "df.info()"
   ]
  },
  {
   "cell_type": "code",
   "execution_count": 4,
   "id": "c1f72736",
   "metadata": {},
   "outputs": [
    {
     "data": {
      "text/plain": [
       "0       4281\n",
       "1       1539\n",
       "2       1102\n",
       "3        867\n",
       "4        696\n",
       "        ... \n",
       "2158       1\n",
       "525        1\n",
       "2297       1\n",
       "5241       1\n",
       "2872       1\n",
       "Name: suicides_no, Length: 2084, dtype: int64"
      ]
     },
     "execution_count": 4,
     "metadata": {},
     "output_type": "execute_result"
    }
   ],
   "source": [
    "suicides_100k_pop_count = df.suicides_no.value_counts()\n",
    "suicides_100k_pop_count"
   ]
  },
  {
   "cell_type": "code",
   "execution_count": 5,
   "id": "1637eff4",
   "metadata": {},
   "outputs": [
    {
     "data": {
      "text/plain": [
       "15-24 years    4642\n",
       "35-54 years    4642\n",
       "75+ years      4642\n",
       "25-34 years    4642\n",
       "55-74 years    4642\n",
       "5-14 years     4610\n",
       "Name: age_range, dtype: int64"
      ]
     },
     "execution_count": 5,
     "metadata": {},
     "output_type": "execute_result"
    }
   ],
   "source": [
    "age_range_count = df.age_range.value_counts()\n",
    "age_range_count"
   ]
  },
  {
   "cell_type": "code",
   "execution_count": 6,
   "id": "0381db9b",
   "metadata": {},
   "outputs": [
    {
     "data": {
      "text/plain": [
       "Generation X       6408\n",
       "Silent             6364\n",
       "Millenials         5844\n",
       "Boomers            4990\n",
       "G.I. Generation    2744\n",
       "Generation Z       1470\n",
       "Name: generation, dtype: int64"
      ]
     },
     "execution_count": 6,
     "metadata": {},
     "output_type": "execute_result"
    }
   ],
   "source": [
    "generation_count = df.generation.value_counts()\n",
    "generation_count"
   ]
  },
  {
   "cell_type": "code",
   "execution_count": 7,
   "id": "79b50391",
   "metadata": {},
   "outputs": [
    {
     "data": {
      "image/png": "[encoded data removed]",
      "text/plain": [
       "<Figure size 432x288 with 1 Axes>"
      ]
     },
     "metadata": {
      "needs_background": "light"
     },
     "output_type": "display_data"
    }
   ],
   "source": [
    "# scatter plot of suicide_year vs suicides_100k_pop\n",
    "plt.scatter(df.suicide_year, df.suicides_100k_pop)\n",
    "plt.xlabel('suicide_year')\n",
    "plt.ylabel('suicides_100k_pop')\n",
    "plt.show()"
   ]
  },
  {
   "cell_type": "code",
   "execution_count": 8,
   "id": "09714afe",
   "metadata": {},
   "outputs": [
    {
     "data": {
      "text/plain": [
       "country              372\n",
       "suicide_year         372\n",
       "sex                  372\n",
       "age_range            372\n",
       "suicides_no          372\n",
       "population           372\n",
       "suicides_100k_pop    372\n",
       "country_year         372\n",
       "HDI_for_year         120\n",
       " gdp_for_year        372\n",
       "gdp_per_capita       372\n",
       "generation           372\n",
       "dtype: int64"
      ]
     },
     "execution_count": 8,
     "metadata": {},
     "output_type": "execute_result"
    }
   ],
   "source": [
    "# count of rows that is United States \n",
    "country_count = df[df['country'] == 'United States'].count()\n",
    "country_count"
   ]
  },
  {
   "cell_type": "code",
   "execution_count": 9,
   "id": "c7f696dc",
   "metadata": {},
   "outputs": [
    {
     "data": {
      "text/html": [
       "<div>\n",
       "<style scoped>\n",
       "    .dataframe tbody tr th:only-of-type {\n",
       "        vertical-align: middle;\n",
       "    }\n",
       "\n",
       "    .dataframe tbody tr th {\n",
       "        vertical-align: top;\n",
       "    }\n",
       "\n",
       "    .dataframe thead th {\n",
       "        text-align: right;\n",
       "    }\n",
       "</style>\n",
       "<table border=\"1\" class=\"dataframe\">\n",
       "  <thead>\n",
       "    <tr style=\"text-align: right;\">\n",
       "      <th></th>\n",
       "      <th>country</th>\n",
       "      <th>suicide_year</th>\n",
       "      <th>sex</th>\n",
       "      <th>age_range</th>\n",
       "      <th>suicides_no</th>\n",
       "      <th>population</th>\n",
       "      <th>suicides_100k_pop</th>\n",
       "      <th>country_year</th>\n",
       "      <th>HDI_for_year</th>\n",
       "      <th>gdp_for_year</th>\n",
       "      <th>gdp_per_capita</th>\n",
       "      <th>generation</th>\n",
       "    </tr>\n",
       "  </thead>\n",
       "  <tbody>\n",
       "    <tr>\n",
       "      <th>27088</th>\n",
       "      <td>United States</td>\n",
       "      <td>2005</td>\n",
       "      <td>m</td>\n",
       "      <td>75+ years</td>\n",
       "      <td>2610</td>\n",
       "      <td>6883241</td>\n",
       "      <td>37.92</td>\n",
       "      <td>United States2005</td>\n",
       "      <td>0.897</td>\n",
       "      <td>13093726000000</td>\n",
       "      <td>47423</td>\n",
       "      <td>Silent</td>\n",
       "    </tr>\n",
       "    <tr>\n",
       "      <th>27089</th>\n",
       "      <td>United States</td>\n",
       "      <td>2005</td>\n",
       "      <td>m</td>\n",
       "      <td>35-54 years</td>\n",
       "      <td>10332</td>\n",
       "      <td>42835394</td>\n",
       "      <td>24.12</td>\n",
       "      <td>United States2005</td>\n",
       "      <td>0.897</td>\n",
       "      <td>13093726000000</td>\n",
       "      <td>47423</td>\n",
       "      <td>Boomers</td>\n",
       "    </tr>\n",
       "    <tr>\n",
       "      <th>27090</th>\n",
       "      <td>United States</td>\n",
       "      <td>2005</td>\n",
       "      <td>m</td>\n",
       "      <td>55-74 years</td>\n",
       "      <td>5190</td>\n",
       "      <td>23156114</td>\n",
       "      <td>22.41</td>\n",
       "      <td>United States2005</td>\n",
       "      <td>0.897</td>\n",
       "      <td>13093726000000</td>\n",
       "      <td>47423</td>\n",
       "      <td>Silent</td>\n",
       "    </tr>\n",
       "    <tr>\n",
       "      <th>27091</th>\n",
       "      <td>United States</td>\n",
       "      <td>2005</td>\n",
       "      <td>m</td>\n",
       "      <td>25-34 years</td>\n",
       "      <td>4066</td>\n",
       "      <td>20421260</td>\n",
       "      <td>19.91</td>\n",
       "      <td>United States2005</td>\n",
       "      <td>0.897</td>\n",
       "      <td>13093726000000</td>\n",
       "      <td>47423</td>\n",
       "      <td>Generation X</td>\n",
       "    </tr>\n",
       "    <tr>\n",
       "      <th>27092</th>\n",
       "      <td>United States</td>\n",
       "      <td>2005</td>\n",
       "      <td>m</td>\n",
       "      <td>15-24 years</td>\n",
       "      <td>3498</td>\n",
       "      <td>21647159</td>\n",
       "      <td>16.16</td>\n",
       "      <td>United States2005</td>\n",
       "      <td>0.897</td>\n",
       "      <td>13093726000000</td>\n",
       "      <td>47423</td>\n",
       "      <td>Millenials</td>\n",
       "    </tr>\n",
       "  </tbody>\n",
       "</table>\n",
       "</div>"
      ],
      "text/plain": [
       "             country  suicide_year sex    age_range  suicides_no  population  \\\n",
       "27088  United States          2005   m    75+ years         2610     6883241   \n",
       "27089  United States          2005   m  35-54 years        10332    42835394   \n",
       "27090  United States          2005   m  55-74 years         5190    23156114   \n",
       "27091  United States          2005   m  25-34 years         4066    20421260   \n",
       "27092  United States          2005   m  15-24 years         3498    21647159   \n",
       "\n",
       "       suicides_100k_pop       country_year  HDI_for_year    gdp_for_year  \\\n",
       "27088              37.92  United States2005         0.897  13093726000000   \n",
       "27089              24.12  United States2005         0.897  13093726000000   \n",
       "27090              22.41  United States2005         0.897  13093726000000   \n",
       "27091              19.91  United States2005         0.897  13093726000000   \n",
       "27092              16.16  United States2005         0.897  13093726000000   \n",
       "\n",
       "       gdp_per_capita    generation  \n",
       "27088           47423        Silent  \n",
       "27089           47423       Boomers  \n",
       "27090           47423        Silent  \n",
       "27091           47423  Generation X  \n",
       "27092           47423    Millenials  "
      ]
     },
     "execution_count": 9,
     "metadata": {},
     "output_type": "execute_result"
    }
   ],
   "source": [
    "# filter dataframe to United States and suicide_year between 2005 and 2012\n",
    "first_filter = df['country'] == 'United States'\n",
    "second_filter = df.suicide_year >= 2005\n",
    "third_filter = df.suicide_year <=2012\n",
    "data = df[first_filter & second_filter & third_filter]\n",
    "data.head()"
   ]
  },
  {
   "cell_type": "code",
   "execution_count": 10,
   "id": "a9360911",
   "metadata": {},
   "outputs": [],
   "source": [
    "# create feature X and target y\n",
    "X = np.array(data.loc[:,'suicide_year']).reshape(-1,1)\n",
    "y = np.array(data.loc[:,'suicides_100k_pop']).reshape(-1,1)"
   ]
  },
  {
   "cell_type": "code",
   "execution_count": 11,
   "id": "1831f9c2",
   "metadata": {},
   "outputs": [
    {
     "data": {
      "image/png": "[encoded data removed]",
      "text/plain": [
       "<Figure size 720x720 with 1 Axes>"
      ]
     },
     "metadata": {
      "needs_background": "light"
     },
     "output_type": "display_data"
    }
   ],
   "source": [
    "# Scatter plot\n",
    "plt.figure(figsize=[10,10])\n",
    "plt.scatter(x=X,y=y)\n",
    "plt.xlabel('suicide_year')\n",
    "plt.ylabel('suicides_100k_pop')\n",
    "plt.show()"
   ]
  },
  {
   "cell_type": "code",
   "execution_count": null,
   "id": "3f533155",
   "metadata": {},
   "outputs": [],
   "source": []
  }
 ],
 "metadata": {
  "kernelspec": {
   "display_name": "mlenv",
   "language": "python",
   "name": "mlenv"
  },
  "language_info": {
   "codemirror_mode": {
    "name": "ipython",
    "version": 3
   },
   "file_extension": ".py",
   "mimetype": "text/x-python",
   "name": "python",
   "nbconvert_exporter": "python",
   "pygments_lexer": "ipython3",
   "version": "3.7.11"
  }
 },
 "nbformat": 4,
 "nbformat_minor": 5
}
